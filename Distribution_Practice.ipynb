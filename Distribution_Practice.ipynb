{
  "nbformat": 4,
  "nbformat_minor": 0,
  "metadata": {
    "colab": {
      "name": "Distribution_Practice.ipynb",
      "provenance": [],
      "authorship_tag": "ABX9TyNcj6TJPDsxr5qldt+kp1UV",
      "include_colab_link": true
    },
    "kernelspec": {
      "name": "python3",
      "display_name": "Python 3"
    },
    "language_info": {
      "name": "python"
    }
  },
  "cells": [
    {
      "cell_type": "markdown",
      "metadata": {
        "id": "view-in-github",
        "colab_type": "text"
      },
      "source": [
        "<a href=\"https://colab.research.google.com/github/mandem296/AI-ML-Group-Task/blob/master/Distribution_Practice.ipynb\" target=\"_parent\"><img src=\"https://colab.research.google.com/assets/colab-badge.svg\" alt=\"Open In Colab\"/></a>"
      ]
    },
    {
      "cell_type": "code",
      "execution_count": null,
      "metadata": {
        "id": "MJx_qMcG9kZK"
      },
      "outputs": [],
      "source": [
        "from scipy import stats\n",
        "import matplotlib.pyplot as plt\n"
      ]
    },
    {
      "cell_type": "code",
      "source": [
        "n = 1000\n",
        "p = 0.5\n",
        "x = list(range(0,n+1))\n",
        "q= 1-p"
      ],
      "metadata": {
        "id": "Oq8oKy2I9sBf"
      },
      "execution_count": null,
      "outputs": []
    },
    {
      "cell_type": "code",
      "source": [
        "stats.binom.pmf(x, n, p)"
      ],
      "metadata": {
        "colab": {
          "base_uri": "https://localhost:8080/"
        },
        "id": "z4ax6aK2976i",
        "outputId": "2c518511-9e0b-4136-808f-900918bfc66b"
      },
      "execution_count": null,
      "outputs": [
        {
          "output_type": "execute_result",
          "data": {
            "text/plain": [
              "array([9.33263619e-302, 9.33263619e-299, 4.66165177e-296, ...,\n",
              "       4.66165177e-296, 9.33263619e-299, 9.33263619e-302])"
            ]
          },
          "metadata": {},
          "execution_count": 40
        }
      ]
    },
    {
      "cell_type": "code",
      "source": [
        "y = stats.binom.pmf(x, n, p)\n",
        "z= stats.poisson.pmf(x, n*p)\n",
        "f= stats.norm.pdf(x,n*p, n*q*p)"
      ],
      "metadata": {
        "id": "S2rrJt8C_Kx-"
      },
      "execution_count": null,
      "outputs": []
    },
    {
      "cell_type": "code",
      "source": [
        "y"
      ],
      "metadata": {
        "colab": {
          "base_uri": "https://localhost:8080/"
        },
        "id": "U0ZspQb__W5l",
        "outputId": "001685b3-0543-401c-bff5-301289274991"
      },
      "execution_count": null,
      "outputs": [
        {
          "output_type": "execute_result",
          "data": {
            "text/plain": [
              "array([9.33263619e-302, 9.33263619e-299, 4.66165177e-296, ...,\n",
              "       4.66165177e-296, 9.33263619e-299, 9.33263619e-302])"
            ]
          },
          "metadata": {},
          "execution_count": 42
        }
      ]
    },
    {
      "cell_type": "code",
      "source": [
        "z"
      ],
      "metadata": {
        "colab": {
          "base_uri": "https://localhost:8080/"
        },
        "id": "B2p9dmi_Cs_X",
        "outputId": "af83c7c7-a06e-43dc-83b9-33d44787d049"
      },
      "execution_count": null,
      "outputs": [
        {
          "output_type": "execute_result",
          "data": {
            "text/plain": [
              "array([7.12457641e-218, 3.56228820e-215, 8.90572051e-213, ...,\n",
              "       6.60305085e-086, 3.30483026e-086, 1.65241513e-086])"
            ]
          },
          "metadata": {},
          "execution_count": 43
        }
      ]
    },
    {
      "cell_type": "code",
      "source": [
        "stats.binom.pmf(4, n, p)"
      ],
      "metadata": {
        "colab": {
          "base_uri": "https://localhost:8080/"
        },
        "id": "khblIefg-Do1",
        "outputId": "d75e1066-1dff-4d82-f5ff-34c792b4040c"
      },
      "execution_count": null,
      "outputs": [
        {
          "output_type": "execute_result",
          "data": {
            "text/plain": [
              "3.8653095712193346e-291"
            ]
          },
          "metadata": {},
          "execution_count": 37
        }
      ]
    },
    {
      "cell_type": "code",
      "source": [
        "plt.plot(x,y,label=\"Binom\")\n",
        "plt.plot(x,z,label=\"Poisson\")\n",
        "plt.plot(x,f,label=\"Norm\")\n",
        "plt.ylabel(\"Probability\")\n",
        "plt.xlabel(\"RV.X\")\n",
        "plt.legend()"
      ],
      "metadata": {
        "colab": {
          "base_uri": "https://localhost:8080/",
          "height": 296
        },
        "id": "fOh2zoDp-tJY",
        "outputId": "00a83969-f777-4586-9742-1e78c21c705e"
      },
      "execution_count": null,
      "outputs": [
        {
          "output_type": "execute_result",
          "data": {
            "text/plain": [
              "<matplotlib.legend.Legend at 0x7f681bb9eed0>"
            ]
          },
          "metadata": {},
          "execution_count": 54
        },
        {
          "output_type": "display_data",
          "data": {
            "text/plain": [
              "<Figure size 432x288 with 1 Axes>"
            ],
            "image/png": "[encoded data removed]"
          },
          "metadata": {
            "needs_background": "light"
          }
        }
      ]
    },
    {
      "cell_type": "code",
      "source": [
        "plt.plot(x,z)"
      ],
      "metadata": {
        "colab": {
          "base_uri": "https://localhost:8080/",
          "height": 282
        },
        "id": "FT4EoUMTCzs_",
        "outputId": "ed7bb023-6ced-4eca-8ec2-7e12c90e778e"
      },
      "execution_count": null,
      "outputs": [
        {
          "output_type": "execute_result",
          "data": {
            "text/plain": [
              "[<matplotlib.lines.Line2D at 0x7f681be735d0>]"
            ]
          },
          "metadata": {},
          "execution_count": 30
        },
        {
          "output_type": "display_data",
          "data": {
            "text/plain": [
              "<Figure size 432x288 with 1 Axes>"
            ],
            "image/png": "[encoded data removed]"
          },
          "metadata": {
            "needs_background": "light"
          }
        }
      ]
    },
    {
      "cell_type": "code",
      "source": [
        "n = 10\n",
        "p = 0.6\n",
        "x = 4"
      ],
      "metadata": {
        "id": "ZN7xHwF2AFPQ"
      },
      "execution_count": null,
      "outputs": []
    },
    {
      "cell_type": "code",
      "source": [
        "stats.binom.pmf(x, n, p)"
      ],
      "metadata": {
        "colab": {
          "base_uri": "https://localhost:8080/"
        },
        "id": "0fP6jMC0AVR5",
        "outputId": "50f97ff2-7203-4b47-ec68-99e729425239"
      },
      "execution_count": null,
      "outputs": [
        {
          "output_type": "execute_result",
          "data": {
            "text/plain": [
              "0.11147673600000013"
            ]
          },
          "metadata": {},
          "execution_count": 15
        }
      ]
    },
    {
      "cell_type": "code",
      "source": [
        "n = 10\n",
        "p = 0.6\n",
        "x = list(range(3,6))"
      ],
      "metadata": {
        "id": "HZ8_VvrfAlBU"
      },
      "execution_count": null,
      "outputs": []
    },
    {
      "cell_type": "code",
      "source": [
        "stats.binom.cdf(x, n, p)"
      ],
      "metadata": {
        "colab": {
          "base_uri": "https://localhost:8080/"
        },
        "id": "HqVhAFH0AtQd",
        "outputId": "d7132d29-7b40-43c0-ad4c-053400791840"
      },
      "execution_count": null,
      "outputs": [
        {
          "output_type": "execute_result",
          "data": {
            "text/plain": [
              "array([0.05476188, 0.16623862, 0.36689674])"
            ]
          },
          "metadata": {},
          "execution_count": 24
        }
      ]
    },
    {
      "cell_type": "code",
      "source": [
        "stats.binom.pmf(x, n, p)"
      ],
      "metadata": {
        "colab": {
          "base_uri": "https://localhost:8080/"
        },
        "id": "1vrf6FcaBihL",
        "outputId": "bee12541-dc13-4503-8711-6d7eb71de5c7"
      },
      "execution_count": null,
      "outputs": [
        {
          "output_type": "execute_result",
          "data": {
            "text/plain": [
              "array([0.04246733, 0.11147674, 0.20065812])"
            ]
          },
          "metadata": {},
          "execution_count": 25
        }
      ]
    },
    {
      "cell_type": "code",
      "source": [
        ""
      ],
      "metadata": {
        "id": "sc0k9k2BCcxG"
      },
      "execution_count": null,
      "outputs": []
    }
  ]
}