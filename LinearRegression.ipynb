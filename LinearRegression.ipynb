{
  "nbformat": 4,
  "nbformat_minor": 0,
  "metadata": {
    "colab": {
      "name": "LinearRegression.ipynb",
      "provenance": [],
      "authorship_tag": "ABX9TyOYZwqI5IEZCH/ME1PUTdiY",
      "include_colab_link": true
    },
    "kernelspec": {
      "name": "python3",
      "display_name": "Python 3"
    },
    "language_info": {
      "name": "python"
    }
  },
  "cells": [
    {
      "cell_type": "markdown",
      "metadata": {
        "id": "view-in-github",
        "colab_type": "text"
      },
      "source": [
        "<a href=\"https://colab.research.google.com/github/mandem296/AI-ML-Group-Task/blob/master/LinearRegression.ipynb\" target=\"_parent\"><img src=\"https://colab.research.google.com/assets/colab-badge.svg\" alt=\"Open In Colab\"/></a>"
      ]
    },
    {
      "cell_type": "code",
      "execution_count": 89,
      "metadata": {
        "id": "Ps-XbPFQoz9v"
      },
      "outputs": [],
      "source": [
        "from scipy.stats import binom\n",
        "from numpy import random\n",
        "import pandas as pd\n",
        "import numpy as np\n",
        "import matplotlib.pyplot as plt"
      ]
    },
    {
      "cell_type": "markdown",
      "source": [
        "Dataset size"
      ],
      "metadata": {
        "id": "KWY9A_ur4_nQ"
      }
    },
    {
      "cell_type": "code",
      "source": [
        "s=100\n"
      ],
      "metadata": {
        "id": "chhGD6C77yDJ"
      },
      "execution_count": 90,
      "outputs": []
    },
    {
      "cell_type": "markdown",
      "source": [
        "Generating Fake Data"
      ],
      "metadata": {
        "id": "nht2PDY15OeZ"
      }
    },
    {
      "cell_type": "code",
      "source": [
        "Nairobi_office_Price_data={'Office Size':random.normal(130,10,s),'Office Price':random.normal(80,20,s)}"
      ],
      "metadata": {
        "id": "tYiu0Gxg8c2F"
      },
      "execution_count": 91,
      "outputs": []
    },
    {
      "cell_type": "code",
      "source": [
        "pd.DataFrame(Nairobi_office_Price_data)"
      ],
      "metadata": {
        "colab": {
          "base_uri": "https://localhost:8080/",
          "height": 424
        },
        "id": "Xvf7oJKk87Jb",
        "outputId": "42d52df2-ee26-409d-9ff7-10fa09f6555c"
      },
      "execution_count": 92,
      "outputs": [
        {
          "output_type": "execute_result",
          "data": {
            "text/plain": [
              "    Office Size  Office Price\n",
              "0    119.481861     89.666202\n",
              "1    123.248869     69.098096\n",
              "2    125.283091     78.460189\n",
              "3    136.024370     92.046438\n",
              "4    113.787975    104.364040\n",
              "..          ...           ...\n",
              "95   130.496892     66.370695\n",
              "96   143.128987     93.739952\n",
              "97   134.737742    102.460308\n",
              "98   141.714955     92.418490\n",
              "99   138.570485     99.569503\n",
              "\n",
              "[100 rows x 2 columns]"
            ],
            "text/html": [
              "\n",
              "  <div id=\"df-c6c73b2d-20b3-4eb3-9901-7bdff3cf0b7a\">\n",
              "    <div class=\"colab-df-container\">\n",
              "      <div>\n",
              "<style scoped>\n",
              "    .dataframe tbody tr th:only-of-type {\n",
              "        vertical-align: middle;\n",
              "    }\n",
              "\n",
              "    .dataframe tbody tr th {\n",
              "        vertical-align: top;\n",
              "    }\n",
              "\n",
              "    .dataframe thead th {\n",
              "        text-align: right;\n",
              "    }\n",
              "</style>\n",
              "<table border=\"1\" class=\"dataframe\">\n",
              "  <thead>\n",
              "    <tr style=\"text-align: right;\">\n",
              "      <th></th>\n",
              "      <th>Office Size</th>\n",
              "      <th>Office Price</th>\n",
              "    </tr>\n",
              "  </thead>\n",
              "  <tbody>\n",
              "    <tr>\n",
              "      <th>0</th>\n",
              "      <td>119.481861</td>\n",
              "      <td>89.666202</td>\n",
              "    </tr>\n",
              "    <tr>\n",
              "      <th>1</th>\n",
              "      <td>123.248869</td>\n",
              "      <td>69.098096</td>\n",
              "    </tr>\n",
              "    <tr>\n",
              "      <th>2</th>\n",
              "      <td>125.283091</td>\n",
              "      <td>78.460189</td>\n",
              "    </tr>\n",
              "    <tr>\n",
              "      <th>3</th>\n",
              "      <td>136.024370</td>\n",
              "      <td>92.046438</td>\n",
              "    </tr>\n",
              "    <tr>\n",
              "      <th>4</th>\n",
              "      <td>113.787975</td>\n",
              "      <td>104.364040</td>\n",
              "    </tr>\n",
              "    <tr>\n",
              "      <th>...</th>\n",
              "      <td>...</td>\n",
              "      <td>...</td>\n",
              "    </tr>\n",
              "    <tr>\n",
              "      <th>95</th>\n",
              "      <td>130.496892</td>\n",
              "      <td>66.370695</td>\n",
              "    </tr>\n",
              "    <tr>\n",
              "      <th>96</th>\n",
              "      <td>143.128987</td>\n",
              "      <td>93.739952</td>\n",
              "    </tr>\n",
              "    <tr>\n",
              "      <th>97</th>\n",
              "      <td>134.737742</td>\n",
              "      <td>102.460308</td>\n",
              "    </tr>\n",
              "    <tr>\n",
              "      <th>98</th>\n",
              "      <td>141.714955</td>\n",
              "      <td>92.418490</td>\n",
              "    </tr>\n",
              "    <tr>\n",
              "      <th>99</th>\n",
              "      <td>138.570485</td>\n",
              "      <td>99.569503</td>\n",
              "    </tr>\n",
              "  </tbody>\n",
              "</table>\n",
              "<p>100 rows × 2 columns</p>\n",
              "</div>\n",
              "      <button class=\"colab-df-convert\" onclick=\"convertToInteractive('df-c6c73b2d-20b3-4eb3-9901-7bdff3cf0b7a')\"\n",
              "              title=\"Convert this dataframe to an interactive table.\"\n",
              "              style=\"display:none;\">\n",
              "        \n",
              "  <svg xmlns=\"http://www.w3.org/2000/svg\" height=\"24px\"viewBox=\"0 0 24 24\"\n",
              "       width=\"24px\">\n",
              "    <path d=\"M0 0h24v24H0V0z\" fill=\"none\"/>\n",
              "    <path d=\"M18.56 5.44l.94 2.06.94-2.06 2.06-.94-2.06-.94-.94-2.06-.94 2.06-2.06.94zm-11 1L8.5 8.5l.94-2.06 2.06-.94-2.06-.94L8.5 2.5l-.94 2.06-2.06.94zm10 10l.94 2.06.94-2.06 2.06-.94-2.06-.94-.94-2.06-.94 2.06-2.06.94z\"/><path d=\"M17.41 7.96l-1.37-1.37c-.4-.4-.92-.59-1.43-.59-.52 0-1.04.2-1.43.59L10.3 9.45l-7.72 7.72c-.78.78-.78 2.05 0 2.83L4 21.41c.39.39.9.59 1.41.59.51 0 1.02-.2 1.41-.59l7.78-7.78 2.81-2.81c.8-.78.8-2.07 0-2.86zM5.41 20L4 18.59l7.72-7.72 1.47 1.35L5.41 20z\"/>\n",
              "  </svg>\n",
              "      </button>\n",
              "      \n",
              "  <style>\n",
              "    .colab-df-container {\n",
              "      display:flex;\n",
              "      flex-wrap:wrap;\n",
              "      gap: 12px;\n",
              "    }\n",
              "\n",
              "    .colab-df-convert {\n",
              "      background-color: #E8F0FE;\n",
              "      border: none;\n",
              "      border-radius: 50%;\n",
              "      cursor: pointer;\n",
              "      display: none;\n",
              "      fill: #1967D2;\n",
              "      height: 32px;\n",
              "      padding: 0 0 0 0;\n",
              "      width: 32px;\n",
              "    }\n",
              "\n",
              "    .colab-df-convert:hover {\n",
              "      background-color: #E2EBFA;\n",
              "      box-shadow: 0px 1px 2px rgba(60, 64, 67, 0.3), 0px 1px 3px 1px rgba(60, 64, 67, 0.15);\n",
              "      fill: #174EA6;\n",
              "    }\n",
              "\n",
              "    [theme=dark] .colab-df-convert {\n",
              "      background-color: #3B4455;\n",
              "      fill: #D2E3FC;\n",
              "    }\n",
              "\n",
              "    [theme=dark] .colab-df-convert:hover {\n",
              "      background-color: #434B5C;\n",
              "      box-shadow: 0px 1px 3px 1px rgba(0, 0, 0, 0.15);\n",
              "      filter: drop-shadow(0px 1px 2px rgba(0, 0, 0, 0.3));\n",
              "      fill: #FFFFFF;\n",
              "    }\n",
              "  </style>\n",
              "\n",
              "      <script>\n",
              "        const buttonEl =\n",
              "          document.querySelector('#df-c6c73b2d-20b3-4eb3-9901-7bdff3cf0b7a button.colab-df-convert');\n",
              "        buttonEl.style.display =\n",
              "          google.colab.kernel.accessAllowed ? 'block' : 'none';\n",
              "\n",
              "        async function convertToInteractive(key) {\n",
              "          const element = document.querySelector('#df-c6c73b2d-20b3-4eb3-9901-7bdff3cf0b7a');\n",
              "          const dataTable =\n",
              "            await google.colab.kernel.invokeFunction('convertToInteractive',\n",
              "                                                     [key], {});\n",
              "          if (!dataTable) return;\n",
              "\n",
              "          const docLinkHtml = 'Like what you see? Visit the ' +\n",
              "            '<a target=\"_blank\" href=https://colab.research.google.com/notebooks/data_table.ipynb>data table notebook</a>'\n",
              "            + ' to learn more about interactive tables.';\n",
              "          element.innerHTML = '';\n",
              "          dataTable['output_type'] = 'display_data';\n",
              "          await google.colab.output.renderOutput(dataTable, element);\n",
              "          const docLink = document.createElement('div');\n",
              "          docLink.innerHTML = docLinkHtml;\n",
              "          element.appendChild(docLink);\n",
              "        }\n",
              "      </script>\n",
              "    </div>\n",
              "  </div>\n",
              "  "
            ]
          },
          "metadata": {},
          "execution_count": 92
        }
      ]
    },
    {
      "cell_type": "markdown",
      "source": [
        "Equation for Linear Regression:\n",
        "\n",
        "\n"
      ],
      "metadata": {
        "id": "8JTwBVMB7NJO"
      }
    },
    {
      "cell_type": "markdown",
      "source": [
        "y=wx+b "
      ],
      "metadata": {
        "id": "fBv_EfQ79W2N"
      }
    },
    {
      "cell_type": "markdown",
      "source": [
        "where w is the weight and b is the bias"
      ],
      "metadata": {
        "id": "EZqniS-M75oi"
      }
    },
    {
      "cell_type": "markdown",
      "source": [
        "Learning Rate"
      ],
      "metadata": {
        "id": "nOYBlxvN8xPS"
      }
    },
    {
      "cell_type": "code",
      "source": [
        "learningRate = 0.0000003"
      ],
      "metadata": {
        "id": "8Q3N7ltD8zQS"
      },
      "execution_count": 93,
      "outputs": []
    },
    {
      "cell_type": "code",
      "source": [
        "class LinearRegression:\n",
        "  def __init__(self, s, learningRate):\n",
        "    self.n_w = 0\n",
        "    self.n_b = 0\n",
        "    self.data_s = s\n",
        "    self.learning_rate = learningRate\n",
        "    self.sum_error_squared = 0\n",
        "\n",
        "  def Ypredict(self, w, b, Nairobi_office_Price_data):\n",
        "    y = Nairobi_office_Price_data[\"Office Size\"] * w + b\n",
        "    return y\n",
        "\n",
        "  def MeanSquaredError(self, Nairobi_office_Price_data):\n",
        "    Nairobi_office_Price_data[\"error\"] = Nairobi_office_Price_data[\"Office Price\"] - Nairobi_office_Price_data[\"y\"]\n",
        "    Nairobi_office_Price_data[\"error_squared\"] = Nairobi_office_Price_data[\"error\"]**2\n",
        "    return sum(Nairobi_office_Price_data['error_squared'])/self.data_s\n",
        "\n",
        "  def gradientDescent_Formula(self, b, w):\n",
        "    self.n_b = b - (self.learning_rate * - 2 * sum (Nairobi_office_Price_data[\"error\"]))\n",
        "    self.n_w = w - (self.learning_rate * ((-2/self.data_s) * sum(Nairobi_office_Price_data[\"Office Size\"] * Nairobi_office_Price_data[\"error\"])))\n",
        "    return self.n_b, self.n_w"
      ],
      "metadata": {
        "id": "ouUBhQJa61MO"
      },
      "execution_count": 94,
      "outputs": []
    },
    {
      "cell_type": "markdown",
      "source": [
        "Initialize the values of the weight and bias to random values such as 0.6 and 7 respectively"
      ],
      "metadata": {
        "id": "3jJqzUyc78Wy"
      }
    },
    {
      "cell_type": "code",
      "source": [
        "w=0.6\n",
        "b=7"
      ],
      "metadata": {
        "id": "Jb6iX6BL7oxJ"
      },
      "execution_count": 95,
      "outputs": []
    },
    {
      "cell_type": "code",
      "source": [
        "model = LinearRegression(s, learningRate)"
      ],
      "metadata": {
        "id": "29MhcPUw69Pm"
      },
      "execution_count": 96,
      "outputs": []
    },
    {
      "cell_type": "markdown",
      "source": [
        "We train the model to learn the weights and bias. We can specify the number of iterations for the model to run so as to obtain the values."
      ],
      "metadata": {
        "id": "sLPlWqtr8Fl5"
      }
    },
    {
      "cell_type": "code",
      "source": [
        "epochs=100"
      ],
      "metadata": {
        "id": "kjLQ2G5B8TM0"
      },
      "execution_count": 97,
      "outputs": []
    },
    {
      "cell_type": "code",
      "source": [
        "for i in range(epochs):\n",
        "  Nairobi_office_Price_data[\"y\"] = model.Ypredict(w, b, Nairobi_office_Price_data)\n",
        "\n",
        "  model.MeanSquaredError(Nairobi_office_Price_data)\n",
        "\n",
        "  b, w = model.gradientDescent_Formula(b, w)\n",
        "\n",
        "pd.DataFrame(Nairobi_office_Price_data)"
      ],
      "metadata": {
        "id": "GKxPjLel6_d6",
        "colab": {
          "base_uri": "https://localhost:8080/",
          "height": 424
        },
        "outputId": "45b8c7d0-39d1-4a2a-bb7b-0fb1a970ccc9"
      },
      "execution_count": 98,
      "outputs": [
        {
          "output_type": "execute_result",
          "data": {
            "text/plain": [
              "    Office Size  Office Price          y      error  error_squared\n",
              "0    119.481861     89.666202  76.504969  13.161233     173.218042\n",
              "1    123.248869     69.098096  78.696715  -9.598620      92.133498\n",
              "2    125.283091     78.460189  79.880280  -1.420091       2.016659\n",
              "3    136.024370     92.046438  86.129845   5.916593      35.006069\n",
              "4    113.787975    104.364040  73.192113  31.171927     971.689017\n",
              "..          ...           ...        ...        ...            ...\n",
              "95   130.496892     66.370695  82.913810 -16.543116     273.674673\n",
              "96   143.128987     93.739952  90.263502   3.476450      12.085703\n",
              "97   134.737742    102.460308  85.381251  17.079057     291.694191\n",
              "98   141.714955     92.418490  89.440780   2.977709       8.866754\n",
              "99   138.570485     99.569503  87.611243  11.958260     142.999972\n",
              "\n",
              "[100 rows x 5 columns]"
            ],
            "text/html": [
              "\n",
              "  <div id=\"df-e6f72ced-2f43-4c55-8010-16f1436fa761\">\n",
              "    <div class=\"colab-df-container\">\n",
              "      <div>\n",
              "<style scoped>\n",
              "    .dataframe tbody tr th:only-of-type {\n",
              "        vertical-align: middle;\n",
              "    }\n",
              "\n",
              "    .dataframe tbody tr th {\n",
              "        vertical-align: top;\n",
              "    }\n",
              "\n",
              "    .dataframe thead th {\n",
              "        text-align: right;\n",
              "    }\n",
              "</style>\n",
              "<table border=\"1\" class=\"dataframe\">\n",
              "  <thead>\n",
              "    <tr style=\"text-align: right;\">\n",
              "      <th></th>\n",
              "      <th>Office Size</th>\n",
              "      <th>Office Price</th>\n",
              "      <th>y</th>\n",
              "      <th>error</th>\n",
              "      <th>error_squared</th>\n",
              "    </tr>\n",
              "  </thead>\n",
              "  <tbody>\n",
              "    <tr>\n",
              "      <th>0</th>\n",
              "      <td>119.481861</td>\n",
              "      <td>89.666202</td>\n",
              "      <td>76.504969</td>\n",
              "      <td>13.161233</td>\n",
              "      <td>173.218042</td>\n",
              "    </tr>\n",
              "    <tr>\n",
              "      <th>1</th>\n",
              "      <td>123.248869</td>\n",
              "      <td>69.098096</td>\n",
              "      <td>78.696715</td>\n",
              "      <td>-9.598620</td>\n",
              "      <td>92.133498</td>\n",
              "    </tr>\n",
              "    <tr>\n",
              "      <th>2</th>\n",
              "      <td>125.283091</td>\n",
              "      <td>78.460189</td>\n",
              "      <td>79.880280</td>\n",
              "      <td>-1.420091</td>\n",
              "      <td>2.016659</td>\n",
              "    </tr>\n",
              "    <tr>\n",
              "      <th>3</th>\n",
              "      <td>136.024370</td>\n",
              "      <td>92.046438</td>\n",
              "      <td>86.129845</td>\n",
              "      <td>5.916593</td>\n",
              "      <td>35.006069</td>\n",
              "    </tr>\n",
              "    <tr>\n",
              "      <th>4</th>\n",
              "      <td>113.787975</td>\n",
              "      <td>104.364040</td>\n",
              "      <td>73.192113</td>\n",
              "      <td>31.171927</td>\n",
              "      <td>971.689017</td>\n",
              "    </tr>\n",
              "    <tr>\n",
              "      <th>...</th>\n",
              "      <td>...</td>\n",
              "      <td>...</td>\n",
              "      <td>...</td>\n",
              "      <td>...</td>\n",
              "      <td>...</td>\n",
              "    </tr>\n",
              "    <tr>\n",
              "      <th>95</th>\n",
              "      <td>130.496892</td>\n",
              "      <td>66.370695</td>\n",
              "      <td>82.913810</td>\n",
              "      <td>-16.543116</td>\n",
              "      <td>273.674673</td>\n",
              "    </tr>\n",
              "    <tr>\n",
              "      <th>96</th>\n",
              "      <td>143.128987</td>\n",
              "      <td>93.739952</td>\n",
              "      <td>90.263502</td>\n",
              "      <td>3.476450</td>\n",
              "      <td>12.085703</td>\n",
              "    </tr>\n",
              "    <tr>\n",
              "      <th>97</th>\n",
              "      <td>134.737742</td>\n",
              "      <td>102.460308</td>\n",
              "      <td>85.381251</td>\n",
              "      <td>17.079057</td>\n",
              "      <td>291.694191</td>\n",
              "    </tr>\n",
              "    <tr>\n",
              "      <th>98</th>\n",
              "      <td>141.714955</td>\n",
              "      <td>92.418490</td>\n",
              "      <td>89.440780</td>\n",
              "      <td>2.977709</td>\n",
              "      <td>8.866754</td>\n",
              "    </tr>\n",
              "    <tr>\n",
              "      <th>99</th>\n",
              "      <td>138.570485</td>\n",
              "      <td>99.569503</td>\n",
              "      <td>87.611243</td>\n",
              "      <td>11.958260</td>\n",
              "      <td>142.999972</td>\n",
              "    </tr>\n",
              "  </tbody>\n",
              "</table>\n",
              "<p>100 rows × 5 columns</p>\n",
              "</div>\n",
              "      <button class=\"colab-df-convert\" onclick=\"convertToInteractive('df-e6f72ced-2f43-4c55-8010-16f1436fa761')\"\n",
              "              title=\"Convert this dataframe to an interactive table.\"\n",
              "              style=\"display:none;\">\n",
              "        \n",
              "  <svg xmlns=\"http://www.w3.org/2000/svg\" height=\"24px\"viewBox=\"0 0 24 24\"\n",
              "       width=\"24px\">\n",
              "    <path d=\"M0 0h24v24H0V0z\" fill=\"none\"/>\n",
              "    <path d=\"M18.56 5.44l.94 2.06.94-2.06 2.06-.94-2.06-.94-.94-2.06-.94 2.06-2.06.94zm-11 1L8.5 8.5l.94-2.06 2.06-.94-2.06-.94L8.5 2.5l-.94 2.06-2.06.94zm10 10l.94 2.06.94-2.06 2.06-.94-2.06-.94-.94-2.06-.94 2.06-2.06.94z\"/><path d=\"M17.41 7.96l-1.37-1.37c-.4-.4-.92-.59-1.43-.59-.52 0-1.04.2-1.43.59L10.3 9.45l-7.72 7.72c-.78.78-.78 2.05 0 2.83L4 21.41c.39.39.9.59 1.41.59.51 0 1.02-.2 1.41-.59l7.78-7.78 2.81-2.81c.8-.78.8-2.07 0-2.86zM5.41 20L4 18.59l7.72-7.72 1.47 1.35L5.41 20z\"/>\n",
              "  </svg>\n",
              "      </button>\n",
              "      \n",
              "  <style>\n",
              "    .colab-df-container {\n",
              "      display:flex;\n",
              "      flex-wrap:wrap;\n",
              "      gap: 12px;\n",
              "    }\n",
              "\n",
              "    .colab-df-convert {\n",
              "      background-color: #E8F0FE;\n",
              "      border: none;\n",
              "      border-radius: 50%;\n",
              "      cursor: pointer;\n",
              "      display: none;\n",
              "      fill: #1967D2;\n",
              "      height: 32px;\n",
              "      padding: 0 0 0 0;\n",
              "      width: 32px;\n",
              "    }\n",
              "\n",
              "    .colab-df-convert:hover {\n",
              "      background-color: #E2EBFA;\n",
              "      box-shadow: 0px 1px 2px rgba(60, 64, 67, 0.3), 0px 1px 3px 1px rgba(60, 64, 67, 0.15);\n",
              "      fill: #174EA6;\n",
              "    }\n",
              "\n",
              "    [theme=dark] .colab-df-convert {\n",
              "      background-color: #3B4455;\n",
              "      fill: #D2E3FC;\n",
              "    }\n",
              "\n",
              "    [theme=dark] .colab-df-convert:hover {\n",
              "      background-color: #434B5C;\n",
              "      box-shadow: 0px 1px 3px 1px rgba(0, 0, 0, 0.15);\n",
              "      filter: drop-shadow(0px 1px 2px rgba(0, 0, 0, 0.3));\n",
              "      fill: #FFFFFF;\n",
              "    }\n",
              "  </style>\n",
              "\n",
              "      <script>\n",
              "        const buttonEl =\n",
              "          document.querySelector('#df-e6f72ced-2f43-4c55-8010-16f1436fa761 button.colab-df-convert');\n",
              "        buttonEl.style.display =\n",
              "          google.colab.kernel.accessAllowed ? 'block' : 'none';\n",
              "\n",
              "        async function convertToInteractive(key) {\n",
              "          const element = document.querySelector('#df-e6f72ced-2f43-4c55-8010-16f1436fa761');\n",
              "          const dataTable =\n",
              "            await google.colab.kernel.invokeFunction('convertToInteractive',\n",
              "                                                     [key], {});\n",
              "          if (!dataTable) return;\n",
              "\n",
              "          const docLinkHtml = 'Like what you see? Visit the ' +\n",
              "            '<a target=\"_blank\" href=https://colab.research.google.com/notebooks/data_table.ipynb>data table notebook</a>'\n",
              "            + ' to learn more about interactive tables.';\n",
              "          element.innerHTML = '';\n",
              "          dataTable['output_type'] = 'display_data';\n",
              "          await google.colab.output.renderOutput(dataTable, element);\n",
              "          const docLink = document.createElement('div');\n",
              "          docLink.innerHTML = docLinkHtml;\n",
              "          element.appendChild(docLink);\n",
              "        }\n",
              "      </script>\n",
              "    </div>\n",
              "  </div>\n",
              "  "
            ]
          },
          "metadata": {},
          "execution_count": 98
        }
      ]
    },
    {
      "cell_type": "code",
      "source": [
        "w, b"
      ],
      "metadata": {
        "id": "GOYlLP-_7DJE",
        "colab": {
          "base_uri": "https://localhost:8080/"
        },
        "outputId": "4efe5408-523f-4d43-d163-c8cfd29e8774"
      },
      "execution_count": 99,
      "outputs": [
        {
          "output_type": "execute_result",
          "data": {
            "text/plain": [
              "(0.5817211999403232, 6.987145234552663)"
            ]
          },
          "metadata": {},
          "execution_count": 99
        }
      ]
    },
    {
      "cell_type": "code",
      "source": [
        "plt.scatter(Nairobi_office_Price_data[\"Office Size\"], Nairobi_office_Price_data[\"y\"],label=\"Price est. points\", color=\"Green\")\n",
        "plt.plot(Nairobi_office_Price_data[\"Office Size\"], Nairobi_office_Price_data[\"y\"], \"Black\",label=\"Line of best fit\")\n",
        "plt.ylabel(\"Office Price\")\n",
        "plt.xlabel(\"Office Size\")\n",
        "plt.legend()"
      ],
      "metadata": {
        "id": "iT2jAeVD7Gzi",
        "colab": {
          "base_uri": "https://localhost:8080/",
          "height": 296
        },
        "outputId": "59954056-301f-4176-f525-1cb5c165c538"
      },
      "execution_count": 100,
      "outputs": [
        {
          "output_type": "execute_result",
          "data": {
            "text/plain": [
              "<matplotlib.legend.Legend at 0x7f2696b4fd10>"
            ]
          },
          "metadata": {},
          "execution_count": 100
        },
        {
          "output_type": "display_data",
          "data": {
            "text/plain": [
              "<Figure size 432x288 with 1 Axes>"
            ],
            "image/png": "[encoded data removed]"
          },
          "metadata": {
            "needs_background": "light"
          }
        }
      ]
    }
  ]
}